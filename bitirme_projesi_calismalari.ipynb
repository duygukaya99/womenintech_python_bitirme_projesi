{
 "cells": [
  {
   "cell_type": "markdown",
   "metadata": {},
   "source": [
    "bazı görselleştirmeler kategorik, bazıları sayısal değişkenlere uygulanır.\n",
    "describe.T genel veri hakkında bilgi sahibi oluyorum, veride aykırı değer varsa bunu görebiliyorum. çeyreklikler\n",
    "herhangi bir değişkenin kaçar tane olduğunu gösteren bir fonksiyon value_count, aslında kategorik\n",
    "ama sayısal olarak da ifade edebiliriz.\n",
    "ordered yapsak bile veri tipinde bir değişiklik yapmıyor\n",
    "kde değişkeni grafikteki çizgiyi değiştiriyor, true ise çizgi çiziyor\n",
    "boxplot sayısal değişkenler üzerinden ilerler ve asıl amacı outliersları net görebilmektir. aykırı değerler\n",
    "aykırı değerler veri hakkındaki asıl bilgiyi değiştirir, bozar. boxplottan görebiliyoruz aykırıları\n",
    "hangi günler daha fazla kazanıyoruz\n",
    "fonksiyon tanımlama, boyuna, tanımına hepsine bak, eksik değerler hepsini check eden fonksiyon\n",
    "kodu yazarken nasıl yapmış, görselleştirme yapmış mı"
   ]
  },
  {
   "cell_type": "markdown",
   "metadata": {},
   "source": [
    "sıralama gruplama filtreleme önemli \n",
    "analizlerin üzerine açıklama yap\n",
    "kodlar çalışmış olsun\n",
    "bu adımda şunla alakalı bir analiz yaptım\n",
    "streamlit kütüphanesinde görselleştirme aysel hocanın dedikleri"
   ]
  },
  {
   "cell_type": "code",
   "execution_count": null,
   "metadata": {},
   "outputs": [],
   "source": [
    "import pandas as pd\n",
    "import seaborn as sns\n",
    "import matplotlib.pyplot as plt\n",
    "import numpy as np\n",
    "import plotly.express as px\n",
    "import folium"
   ]
  },
  {
   "cell_type": "code",
   "execution_count": null,
   "metadata": {},
   "outputs": [],
   "source": [
    "customers = pd.read_csv(\"customers_dataset.csv\")\n",
    "geolocation = pd.read_csv(\"geolocation_dataset.csv\")\n",
    "order_items = pd.read_csv(\"order_items_dataset.csv\")\n",
    "order_payments = pd.read_csv(\"order_payments_dataset.csv\")\n",
    "order_reviews = pd.read_csv(\"order_reviews_dataset.csv\")\n",
    "orders = pd.read_csv(\"orders_dataset.csv\")\n",
    "product_category = pd.read_csv(\"product_category_name_translation.csv\")\n",
    "products = pd.read_csv(\"products_dataset.csv\")\n",
    "sellers = pd.read_csv(\"sellers_dataset.csv\")"
   ]
  },
  {
   "cell_type": "code",
   "execution_count": null,
   "metadata": {},
   "outputs": [],
   "source": [
    "def check_dataset(dataset):\n",
    "    print(f'Datasetimizde {dataset.shape[0]} satır ve {dataset.shape[1]} sütun vardır. \\n')\n",
    "    print(\"-----------------------------------------------------------------------------\\n\")\n",
    "    print(f'Dataset içindeki değerlerimizin tipi \\n{dataset.dtypes} dır.\\n')\n",
    "    print(\"-----------------------------------------------------------------------------\\n\")\n",
    "    print(f'Datasetin ilk 5 satırını incelersek \\n{dataset.head()}')"
   ]
  },
  {
   "cell_type": "code",
   "execution_count": null,
   "metadata": {},
   "outputs": [],
   "source": [
    "def examine_dataset(dataset):\n",
    "    print(f'Datasetimiz hakkında özet bilgi öğrenelim \\n{dataset.info()} \\n')\n",
    "    print(\"-----------------------------------------------------------------------------\\n\")\n",
    "    print(f'Datasetimiz hakkında daha fazlabilgi sahibi olabilmek için \\n{dataset.describe().T} \\n')\n",
    "    print(\"-----------------------------------------------------------------------------\\n\")\n",
    "    print(f'Datasetimizin null değerlerini görelim \\n{pd.isnull(dataset).sum()} \\n')"
   ]
  },
  {
   "cell_type": "code",
   "execution_count": null,
   "metadata": {},
   "outputs": [],
   "source": [
    "examine_dataset(customers)"
   ]
  },
  {
   "cell_type": "code",
   "execution_count": null,
   "metadata": {},
   "outputs": [],
   "source": [
    "check_dataset(customers)"
   ]
  },
  {
   "cell_type": "code",
   "execution_count": null,
   "metadata": {},
   "outputs": [],
   "source": [
    "order_payments.payment_type.value_counts()"
   ]
  },
  {
   "cell_type": "code",
   "execution_count": null,
   "metadata": {},
   "outputs": [],
   "source": [
    "(order_payments[\"payment_type\"]\n",
    " .value_counts()\n",
    " .plot.pie()\n",
    " .set_title(\"Müşterilerin Ödeme Yöntemi\"));  "
   ]
  },
  {
   "cell_type": "code",
   "execution_count": null,
   "metadata": {},
   "outputs": [],
   "source": [
    "import plotly.express as px\n",
    "df = px.order_payments.payment_type\n",
    "fig = px.pie(df, values='values_counts()', names='payment_type')\n",
    "fig.show()\n",
    "\n"
   ]
  },
  {
   "cell_type": "code",
   "execution_count": null,
   "metadata": {},
   "outputs": [],
   "source": [
    "px.pie(data_frame = order_payments, values = order_payments.payment_type.value_counts(), title = \"Müşterilerin Ödeme Yöntemi\")"
   ]
  },
  {
   "cell_type": "code",
   "execution_count": null,
   "metadata": {},
   "outputs": [],
   "source": [
    "import plotly.express as px\n",
    "df = px.gapminder()\n",
    "fig = px.scatter(df.query(\"year==2007\"), x=\"gdpPercap\", y=\"lifeExp\", size=\"pop\", color=\"continent\",\n",
    "           hover_name=\"country\", log_x=True, size_max=60)\n",
    "fig.show()  # hangi şehirde ne kadar ürün satılmışı uygula"
   ]
  },
  {
   "cell_type": "code",
   "execution_count": null,
   "metadata": {},
   "outputs": [],
   "source": [
    "(order_payments[\"payment_type\"]\n",
    " .value_counts()\n",
    " .plot.bar()\n",
    " .set_title(\"Müşterilerin Ödeme Yöntemi\"));  "
   ]
  },
  {
   "cell_type": "code",
   "execution_count": null,
   "metadata": {},
   "outputs": [],
   "source": [
    "customers.customer_state.value_counts() # bar chart ile çıkarabilirsin"
   ]
  },
  {
   "cell_type": "code",
   "execution_count": null,
   "metadata": {},
   "outputs": [],
   "source": [
    "# sns.pairplot(geolocation);"
   ]
  },
  {
   "cell_type": "code",
   "execution_count": null,
   "metadata": {},
   "outputs": [],
   "source": [
    "#line-plot çizgi grafik ile tarihlere göre ne zaman daha çok sipariş verilmiş diye bakabilirsin"
   ]
  },
  {
   "cell_type": "code",
   "execution_count": null,
   "metadata": {},
   "outputs": [],
   "source": [
    "product_value = order_items.merge(products, on = 'product_id', how = 'inner')\n",
    "product_value"
   ]
  },
  {
   "cell_type": "code",
   "execution_count": null,
   "metadata": {},
   "outputs": [],
   "source": [
    "order_idsi = order_items[order_items['order_item_id'] == 1]\n",
    "scatter = px.scatter(order_idsi, x ='price', y ='freight_value')\n",
    "#color = \"AVERAGE_HUMIDITY\", hover_name ='DATE_TIME')\n",
    "scatter = scatter.update_layout(\n",
    "    title = \"Fiyat ve Yük Taşıma Ücreti arasındaki Oran\",\n",
    "    xaxis_title = \"Price\",\n",
    "    yaxis_title = \"Freight_Value\",)\n",
    "scatter.show()"
   ]
  },
  {
   "cell_type": "code",
   "execution_count": null,
   "metadata": {},
   "outputs": [],
   "source": [
    "products.columns"
   ]
  },
  {
   "cell_type": "code",
   "execution_count": null,
   "metadata": {},
   "outputs": [],
   "source": [
    "scatter = px.scatter(product_value, x ='product_weight_g', y ='freight_value',)\n",
    "scatter = scatter.update_layout(\n",
    "    title = \"Ağırlık ve Yük Taşıma Ücreti arasındaki Oran\",\n",
    "    xaxis_title = \"Weight\",\n",
    "    yaxis_title = \"Freight_Value\",)\n",
    "scatter.show()"
   ]
  },
  {
   "cell_type": "code",
   "execution_count": null,
   "metadata": {},
   "outputs": [],
   "source": [
    "product_value[\"product_volume\"] = product_value['product_length_cm'] * product_value['product_height_cm'] * product_value['product_width_cm']"
   ]
  },
  {
   "cell_type": "code",
   "execution_count": null,
   "metadata": {},
   "outputs": [],
   "source": [
    "scatter = px.scatter(product_value, x ='product_volume', y ='freight_value')\n",
    "scatter = scatter.update_layout(\n",
    "    title = \"Hacim ve Yük Taşıma Ücreti arasındaki Oran\",\n",
    "    xaxis_title = \"Volume\",\n",
    "    yaxis_title = \"Freight_Value\",)\n",
    "scatter.show()"
   ]
  },
  {
   "cell_type": "code",
   "execution_count": null,
   "metadata": {},
   "outputs": [],
   "source": [
    "geolocation.columns"
   ]
  },
  {
   "cell_type": "code",
   "execution_count": null,
   "metadata": {},
   "outputs": [],
   "source": [
    "loc_center = [geolocation['geolocation_lat'].mean(), geolocation['geolocation_lng'].mean()]"
   ]
  },
  {
   "cell_type": "code",
   "execution_count": null,
   "metadata": {},
   "outputs": [],
   "source": [
    "map1 = folium.Map(location = loc_center, tiles='Openstreetmap', zoom_start = 5, control_scale=True)\n",
    "for index, loc in geolocation.iterrows():\n",
    "    folium.CircleMarker([loc['geolocation_lat'], loc['geolocation_lng']], radius=2, weight=5, popup=loc['geolocation_city']).add_to(map1)\n",
    "folium.LayerControl().add_to(map1)\n",
    "map1"
   ]
  },
  {
   "cell_type": "code",
   "execution_count": null,
   "metadata": {},
   "outputs": [],
   "source": [
    "fig = px.box(order_payments, x=\"payment_value\", y=\"order_id\")\n",
    "fig.show()"
   ]
  },
  {
   "cell_type": "markdown",
   "metadata": {},
   "source": [
    "customers datasini şehre göre gruplayip her şehirde kaç satıcı var bunu alabilirsin\n",
    "\n",
    "Sonrasında bu işlemi sellers datasi için yapmalısın\n",
    "\n",
    "Sonra sonuçta çıkan bu 2 tabloyu merge edebilirsin"
   ]
  },
  {
   "cell_type": "code",
   "execution_count": null,
   "metadata": {},
   "outputs": [],
   "source": [
    "customers.rename({'customer_state':'states'}, inplace = True, axis = 1)\n",
    "sellers.rename({'seller_state':'states'}, inplace = True, axis = 1)"
   ]
  },
  {
   "cell_type": "code",
   "execution_count": null,
   "metadata": {},
   "outputs": [],
   "source": [
    "customers_state = customers.groupby([\"states\"]).agg({'customer_id':'size'})\n",
    "customers_state"
   ]
  },
  {
   "cell_type": "code",
   "execution_count": null,
   "metadata": {},
   "outputs": [],
   "source": [
    "sellers_state = sellers.groupby([\"states\"]).agg({'seller_id':'size'})\n",
    "sellers_state"
   ]
  },
  {
   "cell_type": "code",
   "execution_count": null,
   "metadata": {},
   "outputs": [],
   "source": [
    "sellers_and_customers = customers_state.merge(sellers_state, how = 'inner', on = 'states')\n",
    "sellers_and_customers"
   ]
  },
  {
   "cell_type": "code",
   "execution_count": null,
   "metadata": {},
   "outputs": [],
   "source": [
    "sellers_and_customers.reset_index(inplace = True)\n",
    "sellers_and_customers = sellers_and_customers.rename(columns = {'index':'states'})\n",
    "sellers_and_customers"
   ]
  },
  {
   "cell_type": "code",
   "execution_count": null,
   "metadata": {},
   "outputs": [],
   "source": [
    "sellers_and_customers.plot(x=\"states\", y=[\"customer_id\", \"seller_id\"], kind=\"bar\")"
   ]
  },
  {
   "cell_type": "code",
   "execution_count": null,
   "metadata": {},
   "outputs": [],
   "source": [
    "sellers_and_customers_filtered = sellers_and_customers[(sellers_and_customers.states != \"SP\")]\n",
    "sellers_and_customers_filtered.plot(x=\"states\", y=[\"customer_id\", \"seller_id\"], kind=\"bar\")"
   ]
  },
  {
   "cell_type": "code",
   "execution_count": null,
   "metadata": {},
   "outputs": [],
   "source": [
    "# hangi kategoriden ne kadar ürün satıldı"
   ]
  },
  {
   "cell_type": "code",
   "execution_count": null,
   "metadata": {},
   "outputs": [],
   "source": [
    "product = products.merge(product_category, on = 'product_category_name', how = 'inner')\n",
    "product"
   ]
  },
  {
   "cell_type": "code",
   "execution_count": null,
   "metadata": {},
   "outputs": [],
   "source": [
    "product.rename({'product_category_name_english' : 'product_category'}, inplace = True, axis = 1)\n",
    "product\n"
   ]
  },
  {
   "cell_type": "code",
   "execution_count": null,
   "metadata": {},
   "outputs": [],
   "source": [
    "product.groupby('product_category').product_id.value_counts().unstack().plot.barh()"
   ]
  },
  {
   "cell_type": "code",
   "execution_count": 1,
   "metadata": {},
   "outputs": [
    {
     "ename": "NameError",
     "evalue": "name 'orders' is not defined",
     "output_type": "error",
     "traceback": [
      "\u001b[1;31m---------------------------------------------------------------------------\u001b[0m",
      "\u001b[1;31mNameError\u001b[0m                                 Traceback (most recent call last)",
      "Cell \u001b[1;32mIn [1], line 1\u001b[0m\n\u001b[1;32m----> 1\u001b[0m order_monthly \u001b[39m=\u001b[39m orders[[\u001b[39m'\u001b[39m\u001b[39morder_approved_at\u001b[39m\u001b[39m'\u001b[39m]]\u001b[39m.\u001b[39mgroupby(orders[\u001b[39m'\u001b[39m\u001b[39morder_approved_at\u001b[39m\u001b[39m'\u001b[39m]\u001b[39m.\u001b[39mdt\u001b[39m.\u001b[39mto_period(\u001b[39m'\u001b[39m\u001b[39mM\u001b[39m\u001b[39m'\u001b[39m))\u001b[39m.\u001b[39magg({\u001b[39m'\u001b[39m\u001b[39morder_approved_at\u001b[39m\u001b[39m'\u001b[39m : \u001b[39m'\u001b[39m\u001b[39mcount\u001b[39m\u001b[39m'\u001b[39m})\n\u001b[0;32m      2\u001b[0m order_monthly \u001b[39m=\u001b[39m order_monthly\u001b[39m.\u001b[39mrename(columns \u001b[39m=\u001b[39m {\u001b[39m'\u001b[39m\u001b[39morder_approved_at\u001b[39m\u001b[39m'\u001b[39m: \u001b[39m'\u001b[39m\u001b[39monaylanan_siparis_sayisi\u001b[39m\u001b[39m'\u001b[39m})\n\u001b[0;32m      3\u001b[0m order_monthly \u001b[39m=\u001b[39m order_monthly\u001b[39m.\u001b[39mreset_index()\n",
      "\u001b[1;31mNameError\u001b[0m: name 'orders' is not defined"
     ]
    }
   ],
   "source": [
    "order_per_month = orders[['order_approved_at']].groupby(orders['order_approved_at'].dt.to_period('M')).agg({'order_approved_at' : 'count'})\n",
    "order_per_month = order_per_month.rename(columns = {'order_approved_at': 'onaylanan_siparis_sayisi'})\n",
    "order_per_month = order_per_month.reset_index()\n",
    "\n",
    "order_per_month['month_year'] = order_per_month['order_approved_at'].dt.strftime('%b - %Y')\n",
    "order_per_month.head()"
   ]
  }
 ],
 "metadata": {
  "kernelspec": {
   "display_name": "Python 3.10.7 64-bit",
   "language": "python",
   "name": "python3"
  },
  "language_info": {
   "codemirror_mode": {
    "name": "ipython",
    "version": 3
   },
   "file_extension": ".py",
   "mimetype": "text/x-python",
   "name": "python",
   "nbconvert_exporter": "python",
   "pygments_lexer": "ipython3",
   "version": "3.10.7"
  },
  "orig_nbformat": 4,
  "vscode": {
   "interpreter": {
    "hash": "069f238df288ea09d7b18ad4fdd00a6dec393d601f860917fae3606455fbfe67"
   }
  }
 },
 "nbformat": 4,
 "nbformat_minor": 2
}
